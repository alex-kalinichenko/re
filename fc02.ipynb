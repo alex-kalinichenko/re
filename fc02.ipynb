{
 "cells": [
  {
   "cell_type": "code",
   "execution_count": 1,
   "metadata": {
    "ExecuteTime": {
     "end_time": "2021-06-08T07:17:20.145362Z",
     "start_time": "2021-06-08T07:17:18.447399Z"
    },
    "scrolled": true
   },
   "outputs": [],
   "source": [
    "import numpy as np\n",
    "import pandas as pd\n",
    "import datetime\n",
    "from datetime import datetime, date\n",
    "import matplotlib.pyplot as plt\n",
    "import math\n",
    "%matplotlib inline\n",
    "%config InlineBackend.figure_format = 'svg'\n",
    "\n",
    "import pylab\n",
    "from pylab import rcParams\n",
    "\n",
    "#pd.set_option('display.notebook_repr_html', False)\n",
    "#pd.set_option('display.max_columns', 8)\n",
    "#pd.set_option('display.max_rows', 10)\n",
    "#pd.set_option('display.width', 90)\n",
    "\n",
    "data_path = '../data/Prod data.xlsx'\n",
    "fc_path = '../data/fc.xlsx'\n",
    "#df = pd.read_excel(data_path, index_col=1)  # в качестве индекса используется столбец скважин\n",
    "df = pd.read_excel(data_path)  # в качестве индекса используется столбец скважин\n",
    "#df[:5]"
   ]
  },
  {
   "cell_type": "markdown",
   "metadata": {},
   "source": [
    "Создание словаря параметров скважин"
   ]
  },
  {
   "cell_type": "code",
   "execution_count": 2,
   "metadata": {
    "ExecuteTime": {
     "end_time": "2021-06-08T07:17:25.596032Z",
     "start_time": "2021-06-08T07:17:25.445796Z"
    }
   },
   "outputs": [
    {
     "name": "stdout",
     "output_type": "stream",
     "text": [
      "0.04\n",
      "Pam-Sas\n",
      "====\n",
      "Plat-2 : d: 0.04\n",
      "field: Pam-Sas\n",
      "---\n",
      "Plat-5 : d: 0.04\n",
      "field: Pam-Sas\n",
      "---\n",
      "Plat-6 : d: 0.04\n",
      "field: Pam-Sas\n",
      "---\n",
      "Plat-8 : d: 0.04\n",
      "field: Pam-Sas\n",
      "---\n",
      "Plat-13 : d: 0.04\n",
      "field: Pam-Sas\n",
      "---\n",
      "Plat-15 : d: 0.04\n",
      "field: Pam-Sas\n",
      "---\n",
      "Plat-3 : d: 0.04\n",
      "field: Pam-Sas\n",
      "---\n",
      "Plat-11 : d: 0.04\n",
      "field: Pam-Sas\n",
      "---\n",
      "Plat-12 : d: 0.04\n",
      "field: Pam-Sas\n",
      "---\n"
     ]
    },
    {
     "data": {
      "text/html": [
       "<div>\n",
       "<style scoped>\n",
       "    .dataframe tbody tr th:only-of-type {\n",
       "        vertical-align: middle;\n",
       "    }\n",
       "\n",
       "    .dataframe tbody tr th {\n",
       "        vertical-align: top;\n",
       "    }\n",
       "\n",
       "    .dataframe thead th {\n",
       "        text-align: right;\n",
       "    }\n",
       "</style>\n",
       "<table border=\"1\" class=\"dataframe\">\n",
       "  <thead>\n",
       "    <tr style=\"text-align: right;\">\n",
       "      <th></th>\n",
       "      <th>Plat-2</th>\n",
       "      <th>Plat-5</th>\n",
       "      <th>Plat-6</th>\n",
       "      <th>Plat-8</th>\n",
       "      <th>Plat-13</th>\n",
       "      <th>Plat-15</th>\n",
       "      <th>Plat-3</th>\n",
       "      <th>Plat-11</th>\n",
       "      <th>Plat-12</th>\n",
       "    </tr>\n",
       "  </thead>\n",
       "  <tbody>\n",
       "    <tr>\n",
       "      <th>d</th>\n",
       "      <td>0.04</td>\n",
       "      <td>0.04</td>\n",
       "      <td>0.04</td>\n",
       "      <td>0.04</td>\n",
       "      <td>0.04</td>\n",
       "      <td>0.04</td>\n",
       "      <td>0.04</td>\n",
       "      <td>0.04</td>\n",
       "      <td>0.04</td>\n",
       "    </tr>\n",
       "    <tr>\n",
       "      <th>field</th>\n",
       "      <td>Pam-Sas</td>\n",
       "      <td>Pam-Sas</td>\n",
       "      <td>Pam-Sas</td>\n",
       "      <td>Pam-Sas</td>\n",
       "      <td>Pam-Sas</td>\n",
       "      <td>Pam-Sas</td>\n",
       "      <td>Pam-Sas</td>\n",
       "      <td>Pam-Sas</td>\n",
       "      <td>Pam-Sas</td>\n",
       "    </tr>\n",
       "  </tbody>\n",
       "</table>\n",
       "</div>"
      ],
      "text/plain": [
       "        Plat-2   Plat-5   Plat-6   Plat-8  Plat-13  Plat-15   Plat-3  Plat-11  \\\n",
       "d         0.04     0.04     0.04     0.04     0.04     0.04     0.04     0.04   \n",
       "field  Pam-Sas  Pam-Sas  Pam-Sas  Pam-Sas  Pam-Sas  Pam-Sas  Pam-Sas  Pam-Sas   \n",
       "\n",
       "       Plat-12  \n",
       "d         0.04  \n",
       "field  Pam-Sas  "
      ]
     },
     "execution_count": 2,
     "metadata": {},
     "output_type": "execute_result"
    }
   ],
   "source": [
    "well_dict = {'Plat-2':  {'d': 0.04, 'field': 'Pam-Sas'},\n",
    "          'Plat-5':  {'d': 0.04, 'field': 'Pam-Sas'},\n",
    "          'Plat-6':  {'d': 0.04, 'field': 'Pam-Sas'},\n",
    "          'Plat-8':  {'d': 0.04, 'field': 'Pam-Sas'},\n",
    "          'Plat-13': {'d': 0.04, 'field': 'Pam-Sas'},\n",
    "          'Plat-15': {'d': 0.04, 'field': 'Pam-Sas'},\n",
    "          'Plat-3':  {'d': 0.04, 'field': 'Pam-Sas'},\n",
    "          'Plat-11': {'d': 0.04, 'field': 'Pam-Sas'},\n",
    "          'Plat-12': {'d': 0.04, 'field': 'Pam-Sas'}\n",
    "         }\n",
    "print(well_dict['Plat-2']['d'])\n",
    "print(well_dict['Plat-5']['field'])\n",
    "#print(well_dict['Plat-5']['d'],d_dict['Plat-5']['field'])\n",
    "print('====')\n",
    "for well, well_info in well_dict.items():\n",
    "    print(well, ': ', end='')\n",
    "    \n",
    "    for param in well_info:\n",
    "        print(param + ':', well_info[param])\n",
    "    print('---')\n",
    "\n",
    "# Create DataFrame from dictionary\n",
    "df = pd.DataFrame.from_dict(well_dict)\n",
    "# Create a Pandas Excel writer using XlsxWriter as the engine.\n",
    "writer = pd.ExcelWriter(fc_path, engine='xlsxwriter')\n",
    "# Convert the dataframe to an XlsxWriter Excel object.\n",
    "df.to_excel(writer, sheet_name='Sheet1')\n",
    "writer.save()   # Close the Pandas Excel writer and output the Excel file.\n",
    "df"
   ]
  },
  {
   "cell_type": "markdown",
   "metadata": {},
   "source": [
    "### Извлечение из таблицы последнего исторического дебита"
   ]
  },
  {
   "cell_type": "code",
   "execution_count": 4,
   "metadata": {
    "ExecuteTime": {
     "end_time": "2021-06-08T07:18:06.492472Z",
     "start_time": "2021-06-08T07:18:06.479957Z"
    }
   },
   "outputs": [
    {
     "data": {
      "text/html": [
       "<div>\n",
       "<style scoped>\n",
       "    .dataframe tbody tr th:only-of-type {\n",
       "        vertical-align: middle;\n",
       "    }\n",
       "\n",
       "    .dataframe tbody tr th {\n",
       "        vertical-align: top;\n",
       "    }\n",
       "\n",
       "    .dataframe thead th {\n",
       "        text-align: right;\n",
       "    }\n",
       "</style>\n",
       "<table border=\"1\" class=\"dataframe\">\n",
       "  <thead>\n",
       "    <tr style=\"text-align: right;\">\n",
       "      <th></th>\n",
       "      <th>Plat-2</th>\n",
       "      <th>Plat-5</th>\n",
       "      <th>Plat-6</th>\n",
       "      <th>Plat-8</th>\n",
       "      <th>Plat-13</th>\n",
       "      <th>Plat-15</th>\n",
       "      <th>Plat-3</th>\n",
       "      <th>Plat-11</th>\n",
       "      <th>Plat-12</th>\n",
       "    </tr>\n",
       "  </thead>\n",
       "  <tbody>\n",
       "    <tr>\n",
       "      <th>d</th>\n",
       "      <td>0.04</td>\n",
       "      <td>0.04</td>\n",
       "      <td>0.04</td>\n",
       "      <td>0.04</td>\n",
       "      <td>0.04</td>\n",
       "      <td>0.04</td>\n",
       "      <td>0.04</td>\n",
       "      <td>0.04</td>\n",
       "      <td>0.04</td>\n",
       "    </tr>\n",
       "    <tr>\n",
       "      <th>field</th>\n",
       "      <td>Pam-Sas</td>\n",
       "      <td>Pam-Sas</td>\n",
       "      <td>Pam-Sas</td>\n",
       "      <td>Pam-Sas</td>\n",
       "      <td>Pam-Sas</td>\n",
       "      <td>Pam-Sas</td>\n",
       "      <td>Pam-Sas</td>\n",
       "      <td>Pam-Sas</td>\n",
       "      <td>Pam-Sas</td>\n",
       "    </tr>\n",
       "  </tbody>\n",
       "</table>\n",
       "</div>"
      ],
      "text/plain": [
       "        Plat-2   Plat-5   Plat-6   Plat-8  Plat-13  Plat-15   Plat-3  Plat-11  \\\n",
       "d         0.04     0.04     0.04     0.04     0.04     0.04     0.04     0.04   \n",
       "field  Pam-Sas  Pam-Sas  Pam-Sas  Pam-Sas  Pam-Sas  Pam-Sas  Pam-Sas  Pam-Sas   \n",
       "\n",
       "       Plat-12  \n",
       "d         0.04  \n",
       "field  Pam-Sas  "
      ]
     },
     "execution_count": 4,
     "metadata": {},
     "output_type": "execute_result"
    }
   ],
   "source": [
    "df"
   ]
  },
  {
   "cell_type": "code",
   "execution_count": 3,
   "metadata": {
    "ExecuteTime": {
     "end_time": "2021-06-08T07:17:28.668451Z",
     "start_time": "2021-06-08T07:17:28.469849Z"
    },
    "scrolled": true
   },
   "outputs": [
    {
     "ename": "KeyError",
     "evalue": "'Oil production (actual), t'",
     "output_type": "error",
     "traceback": [
      "\u001b[1;31m---------------------------------------------------------------------------\u001b[0m",
      "\u001b[1;31mKeyError\u001b[0m                                  Traceback (most recent call last)",
      "\u001b[1;32m~\\Anaconda3\\lib\\site-packages\\pandas\\core\\indexes\\base.py\u001b[0m in \u001b[0;36mget_loc\u001b[1;34m(self, key, method, tolerance)\u001b[0m\n\u001b[0;32m   2894\u001b[0m             \u001b[1;32mtry\u001b[0m\u001b[1;33m:\u001b[0m\u001b[1;33m\u001b[0m\u001b[1;33m\u001b[0m\u001b[0m\n\u001b[1;32m-> 2895\u001b[1;33m                 \u001b[1;32mreturn\u001b[0m \u001b[0mself\u001b[0m\u001b[1;33m.\u001b[0m\u001b[0m_engine\u001b[0m\u001b[1;33m.\u001b[0m\u001b[0mget_loc\u001b[0m\u001b[1;33m(\u001b[0m\u001b[0mcasted_key\u001b[0m\u001b[1;33m)\u001b[0m\u001b[1;33m\u001b[0m\u001b[1;33m\u001b[0m\u001b[0m\n\u001b[0m\u001b[0;32m   2896\u001b[0m             \u001b[1;32mexcept\u001b[0m \u001b[0mKeyError\u001b[0m \u001b[1;32mas\u001b[0m \u001b[0merr\u001b[0m\u001b[1;33m:\u001b[0m\u001b[1;33m\u001b[0m\u001b[1;33m\u001b[0m\u001b[0m\n",
      "\u001b[1;32mpandas\\_libs\\index.pyx\u001b[0m in \u001b[0;36mpandas._libs.index.IndexEngine.get_loc\u001b[1;34m()\u001b[0m\n",
      "\u001b[1;32mpandas\\_libs\\index.pyx\u001b[0m in \u001b[0;36mpandas._libs.index.IndexEngine.get_loc\u001b[1;34m()\u001b[0m\n",
      "\u001b[1;32mpandas\\_libs\\hashtable_class_helper.pxi\u001b[0m in \u001b[0;36mpandas._libs.hashtable.PyObjectHashTable.get_item\u001b[1;34m()\u001b[0m\n",
      "\u001b[1;32mpandas\\_libs\\hashtable_class_helper.pxi\u001b[0m in \u001b[0;36mpandas._libs.hashtable.PyObjectHashTable.get_item\u001b[1;34m()\u001b[0m\n",
      "\u001b[1;31mKeyError\u001b[0m: 'Oil production (actual), t'",
      "\nThe above exception was the direct cause of the following exception:\n",
      "\u001b[1;31mKeyError\u001b[0m                                  Traceback (most recent call last)",
      "\u001b[1;32m<ipython-input-3-577268766aa4>\u001b[0m in \u001b[0;36m<module>\u001b[1;34m\u001b[0m\n\u001b[0;32m      9\u001b[0m \u001b[1;33m\u001b[0m\u001b[0m\n\u001b[0;32m     10\u001b[0m \u001b[1;31m# месячная добыча / кол-во часов работы * 24 = среднесуточный дебит\u001b[0m\u001b[1;33m\u001b[0m\u001b[1;33m\u001b[0m\u001b[1;33m\u001b[0m\u001b[0m\n\u001b[1;32m---> 11\u001b[1;33m \u001b[0mlast_hist_rate\u001b[0m \u001b[1;33m=\u001b[0m \u001b[0mdf\u001b[0m\u001b[1;33m[\u001b[0m\u001b[1;34m'Oil production (actual), t'\u001b[0m\u001b[1;33m]\u001b[0m\u001b[1;33m[\u001b[0m\u001b[1;33m(\u001b[0m\u001b[0mdf\u001b[0m\u001b[1;33m[\u001b[0m\u001b[1;34m'Well'\u001b[0m\u001b[1;33m]\u001b[0m \u001b[1;33m==\u001b[0m \u001b[0mwell_name\u001b[0m\u001b[1;33m)\u001b[0m \u001b[1;33m&\u001b[0m \u001b[1;33m(\u001b[0m\u001b[0mdf\u001b[0m\u001b[1;33m[\u001b[0m\u001b[1;34m'Date'\u001b[0m\u001b[1;33m]\u001b[0m \u001b[1;33m==\u001b[0m \u001b[0mlast_hist_date\u001b[0m\u001b[1;33m)\u001b[0m\u001b[1;33m]\u001b[0m\u001b[0;31m \u001b[0m\u001b[0;31m\\\u001b[0m\u001b[1;33m\u001b[0m\u001b[1;33m\u001b[0m\u001b[0m\n\u001b[0m\u001b[0;32m     12\u001b[0m \u001b[1;33m/\u001b[0m \u001b[0mdf\u001b[0m\u001b[1;33m[\u001b[0m\u001b[1;34m'Working hours'\u001b[0m\u001b[1;33m]\u001b[0m\u001b[1;33m[\u001b[0m\u001b[1;33m(\u001b[0m\u001b[0mdf\u001b[0m\u001b[1;33m[\u001b[0m\u001b[1;34m'Well'\u001b[0m\u001b[1;33m]\u001b[0m \u001b[1;33m==\u001b[0m \u001b[0mwell_name\u001b[0m\u001b[1;33m)\u001b[0m \u001b[1;33m&\u001b[0m \u001b[1;33m(\u001b[0m\u001b[0mdf\u001b[0m\u001b[1;33m[\u001b[0m\u001b[1;34m'Date'\u001b[0m\u001b[1;33m]\u001b[0m \u001b[1;33m==\u001b[0m \u001b[0mlast_hist_date\u001b[0m\u001b[1;33m)\u001b[0m\u001b[1;33m]\u001b[0m \u001b[1;33m*\u001b[0m \u001b[1;36m24\u001b[0m\u001b[1;33m\u001b[0m\u001b[1;33m\u001b[0m\u001b[0m\n\u001b[0;32m     13\u001b[0m \u001b[1;33m\u001b[0m\u001b[0m\n",
      "\u001b[1;32m~\\Anaconda3\\lib\\site-packages\\pandas\\core\\frame.py\u001b[0m in \u001b[0;36m__getitem__\u001b[1;34m(self, key)\u001b[0m\n\u001b[0;32m   2900\u001b[0m             \u001b[1;32mif\u001b[0m \u001b[0mself\u001b[0m\u001b[1;33m.\u001b[0m\u001b[0mcolumns\u001b[0m\u001b[1;33m.\u001b[0m\u001b[0mnlevels\u001b[0m \u001b[1;33m>\u001b[0m \u001b[1;36m1\u001b[0m\u001b[1;33m:\u001b[0m\u001b[1;33m\u001b[0m\u001b[1;33m\u001b[0m\u001b[0m\n\u001b[0;32m   2901\u001b[0m                 \u001b[1;32mreturn\u001b[0m \u001b[0mself\u001b[0m\u001b[1;33m.\u001b[0m\u001b[0m_getitem_multilevel\u001b[0m\u001b[1;33m(\u001b[0m\u001b[0mkey\u001b[0m\u001b[1;33m)\u001b[0m\u001b[1;33m\u001b[0m\u001b[1;33m\u001b[0m\u001b[0m\n\u001b[1;32m-> 2902\u001b[1;33m             \u001b[0mindexer\u001b[0m \u001b[1;33m=\u001b[0m \u001b[0mself\u001b[0m\u001b[1;33m.\u001b[0m\u001b[0mcolumns\u001b[0m\u001b[1;33m.\u001b[0m\u001b[0mget_loc\u001b[0m\u001b[1;33m(\u001b[0m\u001b[0mkey\u001b[0m\u001b[1;33m)\u001b[0m\u001b[1;33m\u001b[0m\u001b[1;33m\u001b[0m\u001b[0m\n\u001b[0m\u001b[0;32m   2903\u001b[0m             \u001b[1;32mif\u001b[0m \u001b[0mis_integer\u001b[0m\u001b[1;33m(\u001b[0m\u001b[0mindexer\u001b[0m\u001b[1;33m)\u001b[0m\u001b[1;33m:\u001b[0m\u001b[1;33m\u001b[0m\u001b[1;33m\u001b[0m\u001b[0m\n\u001b[0;32m   2904\u001b[0m                 \u001b[0mindexer\u001b[0m \u001b[1;33m=\u001b[0m \u001b[1;33m[\u001b[0m\u001b[0mindexer\u001b[0m\u001b[1;33m]\u001b[0m\u001b[1;33m\u001b[0m\u001b[1;33m\u001b[0m\u001b[0m\n",
      "\u001b[1;32m~\\Anaconda3\\lib\\site-packages\\pandas\\core\\indexes\\base.py\u001b[0m in \u001b[0;36mget_loc\u001b[1;34m(self, key, method, tolerance)\u001b[0m\n\u001b[0;32m   2895\u001b[0m                 \u001b[1;32mreturn\u001b[0m \u001b[0mself\u001b[0m\u001b[1;33m.\u001b[0m\u001b[0m_engine\u001b[0m\u001b[1;33m.\u001b[0m\u001b[0mget_loc\u001b[0m\u001b[1;33m(\u001b[0m\u001b[0mcasted_key\u001b[0m\u001b[1;33m)\u001b[0m\u001b[1;33m\u001b[0m\u001b[1;33m\u001b[0m\u001b[0m\n\u001b[0;32m   2896\u001b[0m             \u001b[1;32mexcept\u001b[0m \u001b[0mKeyError\u001b[0m \u001b[1;32mas\u001b[0m \u001b[0merr\u001b[0m\u001b[1;33m:\u001b[0m\u001b[1;33m\u001b[0m\u001b[1;33m\u001b[0m\u001b[0m\n\u001b[1;32m-> 2897\u001b[1;33m                 \u001b[1;32mraise\u001b[0m \u001b[0mKeyError\u001b[0m\u001b[1;33m(\u001b[0m\u001b[0mkey\u001b[0m\u001b[1;33m)\u001b[0m \u001b[1;32mfrom\u001b[0m \u001b[0merr\u001b[0m\u001b[1;33m\u001b[0m\u001b[1;33m\u001b[0m\u001b[0m\n\u001b[0m\u001b[0;32m   2898\u001b[0m \u001b[1;33m\u001b[0m\u001b[0m\n\u001b[0;32m   2899\u001b[0m         \u001b[1;32mif\u001b[0m \u001b[0mtolerance\u001b[0m \u001b[1;32mis\u001b[0m \u001b[1;32mnot\u001b[0m \u001b[1;32mNone\u001b[0m\u001b[1;33m:\u001b[0m\u001b[1;33m\u001b[0m\u001b[1;33m\u001b[0m\u001b[0m\n",
      "\u001b[1;31mKeyError\u001b[0m: 'Oil production (actual), t'"
     ]
    }
   ],
   "source": [
    "well_name = 'Avil-33'\n",
    "last_hist_date = '2020-03-01'\n",
    "\n",
    "# извлечение строчки по скважине на заданную дату\n",
    "#df[(df['Well'] == well_name) & (df['Date'] == last_hist_date)]\n",
    "\n",
    "# извлечение месячной добычи по скважине на нужную дату (послдней исторической)\n",
    "#df['Oil production (actual), t'][(df['Well'] == well_name) & (df['Date'] == last_hist_date)]\n",
    "\n",
    "# месячная добыча / кол-во часов работы * 24 = среднесуточный дебит\n",
    "last_hist_rate = df['Oil production (actual), t'][(df['Well'] == well_name) & (df['Date'] == last_hist_date)] \\\n",
    "/ df['Working hours'][(df['Well'] == well_name) & (df['Date'] == last_hist_date)] * 24\n",
    "\n",
    "# преобразование объекта series в число\n",
    "last_hist_rate = last_hist_rate.item()"
   ]
  },
  {
   "cell_type": "markdown",
   "metadata": {},
   "source": [
    "## Создание датафреймов из прогнозных данных"
   ]
  },
  {
   "cell_type": "code",
   "execution_count": null,
   "metadata": {
    "ExecuteTime": {
     "end_time": "2021-06-01T16:23:55.803820Z",
     "start_time": "2021-06-01T16:23:55.781819Z"
    }
   },
   "outputs": [],
   "source": [
    "# X:\\MOSCOW\\03-WDO\\01_All Areas\\03 Projects\\20 RE\\Business plans from WDO\\2020.03.25 pdf\\Добыча 2020 факт+план.pdf\n",
    "fc_wdo_20200325 = pd.read_excel(fc_path, sheet_name='WDO_2020.03.25')\n",
    "fc_wdo_20200325\n",
    "\n",
    "# X:\\MOSCOW\\03-WDO\\01_All Areas\\03 Projects\\20 RE\\Business plans from WDO\\2020.04.10 fc 2020+\\Добыча по месторождениям_апрель 2020.xls\n",
    "fc_wdo_20200410 = pd.read_excel(fc_path, sheet_name='WDO_2020.04.10')\n",
    "fc_wdo_20200410\n",
    "\n",
    "fc_wdr_20200403 = pd.read_excel(fc_path, sheet_name='WDR_2020.04.03')\n",
    "fc_wdr_20200403"
   ]
  },
  {
   "cell_type": "markdown",
   "metadata": {},
   "source": [
    "### Построение графиков прогнозных данных"
   ]
  },
  {
   "cell_type": "code",
   "execution_count": null,
   "metadata": {
    "ExecuteTime": {
     "end_time": "2021-06-01T16:24:06.874209Z",
     "start_time": "2021-06-01T16:24:06.859969Z"
    }
   },
   "outputs": [],
   "source": [
    "t1 = fc_wdo_20200410['year']  # well_name = 'Plat-2'\n",
    "data1 = fc_wdo_20200410['wdo']\n",
    "t2 = fc_wdr_20200403['year']\n",
    "data2 = fc_wdr_20200403['wdo']\n",
    "\n",
    "plt.plot(t1, data1, label='FC WDO from 2020.04.10', color=\"brown\")\n",
    "plt.plot(t2, data2, label='FC WDR from 2020.04.03', color=\"red\")\n",
    "\n",
    "rcParams['figure.figsize'] = 12, 6\n",
    "\n",
    "#plt.axis(['2010-01-01', '2024-01-01', 1, 300])\n",
    "#plt.title(well_name)\n",
    "#plt.setp( , color=\"black\")\n",
    "plt.legend()\n",
    "plt.show()"
   ]
  },
  {
   "cell_type": "code",
   "execution_count": null,
   "metadata": {},
   "outputs": [],
   "source": [
    "fc_wdo_20200410['wdo'].sum().round(1), fc_wdr_20200403['wdo'].sum().round(1)"
   ]
  },
  {
   "cell_type": "markdown",
   "metadata": {},
   "source": [
    "### Построение таблиц сравнения прогнозов"
   ]
  },
  {
   "cell_type": "code",
   "execution_count": null,
   "metadata": {
    "ExecuteTime": {
     "end_time": "2021-06-01T16:17:15.914885Z",
     "start_time": "2021-06-01T16:17:15.892887Z"
    }
   },
   "outputs": [],
   "source": [
    "merged_fc = pd.concat([fc_wdo_20200410['year'], fc_wdo_20200410['wdo'].round(1), fc_wdr_20200403['wdo'].round(1)],\\\n",
    "                      axis=1, sort=False)\n",
    "merged_fc.columns = ['year', 'wdo 2020.04.10', 'wdr 2020.04.03']\n",
    "merged_fc.append(pd.Series(merged_fc.sum(),name='Total')) \n",
    "#merged_fc"
   ]
  },
  {
   "cell_type": "markdown",
   "metadata": {},
   "source": [
    "### Создание кривой падения добычи (по Арпсу)"
   ]
  },
  {
   "cell_type": "code",
   "execution_count": null,
   "metadata": {
    "ExecuteTime": {
     "end_time": "2021-06-01T16:24:11.827541Z",
     "start_time": "2021-06-01T16:24:11.810506Z"
    },
    "scrolled": false
   },
   "outputs": [],
   "source": [
    "qi = last_hist_rate       # начальный дебит = последнему историческому\n",
    "d = 0.05                  # коэффициент Арпса\n",
    "q_elim = 3                # экономический предел остановки скважины\n",
    "s_date_fc = '2020-04-01'  # начальная дата прогноза\n",
    "# =================================================================================\n",
    "q_fc = []\n",
    "month_no = 1  # начинаем считать месяцы с первого (с нулевого если дебит 1-го мес-ца как посл-ий истор-ий)\n",
    "#q = qi        # \n",
    "while qi * math.exp(-month_no * d) > q_elim:\n",
    "    q = qi * math.exp(-month_no * d)\n",
    "    q_fc.append(q)\n",
    "    month_no += 1\n",
    "# q_fc # массив дебитов (прогнозных)\n",
    "\n",
    "# генерация массива дат для прогноза\n",
    "dates_fc = pd.date_range(start = s_date_fc, periods=len(q_fc), freq='MS')\n",
    "\n",
    "# объединение прогнозных дебитов и массива дат как индекса в объекте Series\n",
    "q_fc_series = pd.Series(q_fc, index=dates_fc)\n",
    "#q_fc_series.plot() # построение графика добычи"
   ]
  },
  {
   "cell_type": "markdown",
   "metadata": {},
   "source": [
    "### Отрисовка исторических данных с прогнозом"
   ]
  },
  {
   "cell_type": "code",
   "execution_count": null,
   "metadata": {
    "ExecuteTime": {
     "end_time": "2021-06-01T16:24:13.717153Z",
     "start_time": "2021-06-01T16:24:13.449063Z"
    },
    "scrolled": false
   },
   "outputs": [],
   "source": [
    "#t = df['Date']  # well_name = 'Plat-2'\n",
    "data1 = df['Oil production (actual), t'].where(df['Well'] == well_name) / df['Working hours'] * 24\n",
    "data2 = df['WCT, %'].where(df['Well'] == well_name)\n",
    "data3 = df['Gas production, M m3'].where(df['Well'] == well_name) / df['Working hours'] * 24\n",
    "\n",
    "fig, ax1 = plt.subplots(figsize = (10, 5))\n",
    "\n",
    "color = 'tab:brown'\n",
    "#ax1.set_xlabel('Date')\n",
    "ax1.set_ylabel('Daily oil production (t/d)', color=color)\n",
    "ax1.plot(df['Date'], data1, color=color)\n",
    "ax1.tick_params(axis='y', labelcolor=color)\n",
    "\n",
    "# кривая прогноза\n",
    "q_fc_series.plot(color=\"red\")\n",
    "\n",
    "ax2 = ax1.twinx()  # instantiate a second axes that shares the same x-axis\n",
    "\n",
    "color = 'tab:blue'\n",
    "ax2.set_ylabel('Watercut, %', color=color)  # we already handled the x-label with ax1\n",
    "ax2.plot(df['Date'], data2, color=color)\n",
    "ax2.tick_params(axis='y', labelcolor=color)\n",
    "\n",
    "\n",
    "legend = plt.legend(loc='upper left')\n",
    "plt.setp(legend.get_texts(), color=\"black\")\n",
    "\n",
    "plt.title(well_name)\n",
    "fig.tight_layout()  # otherwise the right y-label is slightly clipped\n",
    "#plt.legend()\n",
    "plt.show()"
   ]
  },
  {
   "cell_type": "markdown",
   "metadata": {},
   "source": [
    "### Построение кривой падения добычи в логарифмическом масштабе"
   ]
  },
  {
   "cell_type": "code",
   "execution_count": null,
   "metadata": {
    "ExecuteTime": {
     "end_time": "2021-06-01T16:24:16.834240Z",
     "start_time": "2021-06-01T16:24:16.431939Z"
    },
    "scrolled": false
   },
   "outputs": [],
   "source": [
    "well_name = 'Avil-15'\n",
    "\n",
    "# Получение посл-го истор-го дебита = месячная добыча / кол-во часов работы * 24 = среднесуточный дебит\n",
    "last_hist_rate = df['Oil production (actual), t'][(df['Well'] == well_name) & (df['Date'] == last_hist_date)] \\\n",
    "/ df['Working hours'][(df['Well'] == well_name) & (df['Date'] == last_hist_date)] * 24\n",
    "\n",
    "# преобразование объекта series в число\n",
    "last_hist_rate = last_hist_rate.item()\n",
    "\n",
    "\n",
    "qi =  55 #last_hist_rate       # начальный дебит = последнему историческому\n",
    "d = 0.03                  # коэффициент Арпса\n",
    "q_elim = 2                # экономический предел остановки скважины\n",
    "s_date_fc = '2016-03-01'  # начальная дата прогноза\n",
    "# =================================================================================\n",
    "q_fc = []\n",
    "month_no = 1  # начинаем считать месяцы с первого (с нулевого если дебит 1-го мес-ца как посл-ий истор-ий)\n",
    "#q = qi        # \n",
    "while qi * math.exp(-month_no * d) > q_elim:\n",
    "    q = qi * math.exp(-month_no * d)\n",
    "    q_fc.append(q)\n",
    "    month_no += 1\n",
    "# q_fc # массив дебитов (прогнозных)\n",
    "\n",
    "dates_fc = pd.date_range(start = s_date_fc, periods=len(q_fc), freq='MS') # генерация массива дат для прогноза\n",
    "q_fc_series = pd.Series(q_fc, index=dates_fc) # объединение прогнозных дебитов и массива дат как индекса в объекте Series\n",
    "rcParams['figure.figsize'] = 12, 6\n",
    "data1 = df['Oil production (actual), t'].where(df['Well'] == well_name) / df['Working hours'] * 24\n",
    "plt.plot(df['Date'], data1, color=\"brown\")\n",
    "# кривая прогноза\n",
    "q_fc_series.plot(color=\"red\")\n",
    "#q_fc2 = q_fc_series + 2\n",
    "#q_fc2.plot(color=\"red\")\n",
    "plt.yscale(value=\"log\")\n",
    "plt.axis(['2013-04-01', '2025-07-01', 1, 350])\n",
    "plt.title(well_name)\n",
    "plt.show()\n",
    "print(last_hist_rate)\n",
    "pd.DataFrame(q_fc_series.round(1), dates_fc)"
   ]
  },
  {
   "cell_type": "markdown",
   "metadata": {},
   "source": [
    "Подбор коэффициетов для прогноза"
   ]
  },
  {
   "cell_type": "code",
   "execution_count": null,
   "metadata": {
    "ExecuteTime": {
     "end_time": "2021-06-01T16:24:18.848205Z",
     "start_time": "2021-06-01T16:24:18.690646Z"
    },
    "scrolled": false
   },
   "outputs": [],
   "source": [
    "well_name = 'Plat-3'\n",
    "qi = last_hist_rate       # начальный дебит = последнему историческому\n",
    "d = 0.05                  # коэффициент Арпса\n",
    "q_elim = 3                # экономический предел остановки скважины\n",
    "s_date_fc = '2020-04-01'  # начальная дата прогноза\n",
    "# =================================================================================\n",
    "q_fc = []\n",
    "month_no = 1  # начинаем считать месяцы с первого (с нулевого если дебит 1-го мес-ца как посл-ий истор-ий)\n",
    "#q = qi        # \n",
    "while qi * math.exp(-month_no * d) > q_elim:\n",
    "    q = qi * math.exp(-month_no * d)\n",
    "    q_fc.append(q)\n",
    "    month_no += 1\n",
    "# q_fc # массив дебитов (прогнозных)\n",
    "\n",
    "# генерация массива дат для прогноза\n",
    "dates_fc = pd.date_range(start = s_date_fc, periods=len(q_fc), freq='MS')\n",
    "\n",
    "# объединение прогнозных дебитов и массива дат как индекса в объекте Series\n",
    "q_fc_series = pd.Series(q_fc, index=dates_fc)\n",
    "\n",
    "\n",
    "x = df['Date']\n",
    "y1 = df['Oil production (actual), t'].where(df['Well'] == well_name) / df['Working hours'] * 24\n",
    "y2 = df['Water production, t'].where(df['Well'] == well_name) / df['Working hours'] * 24\n",
    "#y3 = ...\n",
    "\n",
    "\n",
    "colors = ['#C9C19C', '#A9DDFF']\n",
    "plt.stackplot(x, y1, y2, labels=['Oil production (hist), t/d','Water production (hist), t/d'], colors=colors)\n",
    "plt.plot(dates_fc, q_fc_series, color=\"red\")\n",
    "plt.legend(loc='upper left')\n",
    "plt.title(well_name)\n",
    "plt.xlim(2010*365, 2024*365)  # нумерация в днях"
   ]
  },
  {
   "cell_type": "code",
   "execution_count": null,
   "metadata": {},
   "outputs": [],
   "source": [
    "#            init_rate  d workover_date workover_rate workover_d\n",
    "well_dict = {\n",
    "    'plat-15': {\n",
    "        'init_rate': 19.4,\n",
    "                'd': 0.05,\n",
    "    'workover_date': '2020-08-01',\n",
    "    'workover_rate': 45,\n",
    "       'workover_d': 0.05}\n",
    "}\n",
    "\n",
    "\n",
    "\n",
    "qi = last_hist_rate       # начальный дебит = последнему историческому\n",
    "d = 0.05                  # коэффициент Арпса\n",
    "q_elim = 3                # экономический предел остановки скважины\n",
    "s_date_fc = '2020-04-01'  # начальная дата прогноза\n",
    "# =================================================================================\n",
    "q_fc = []\n",
    "month_no = 1  # начинаем считать месяцы с первого (с нулевого если дебит 1-го мес-ца как посл-ий истор-ий)\n",
    "#q = qi        # \n",
    "while qi * math.exp(-month_no * d) > q_elim:\n",
    "    q = qi * math.exp(-month_no * d)\n",
    "    q_fc.append(q)\n",
    "    month_no += 1\n",
    "# q_fc # массив дебитов (прогнозных)\n",
    "\n",
    "# генерация массива дат для прогноза\n",
    "dates_fc = pd.date_range(start = s_date_fc, periods=len(q_fc), freq='MS')\n",
    "\n",
    "# объединение прогнозных дебитов и массива дат как индекса в объекте Series\n",
    "q_fc_series = pd.Series(q_fc, index=dates_fc)\n",
    "q_fc_series.plot() # построение графика добычи"
   ]
  },
  {
   "cell_type": "markdown",
   "metadata": {},
   "source": [
    "# Backup"
   ]
  },
  {
   "cell_type": "code",
   "execution_count": null,
   "metadata": {
    "ExecuteTime": {
     "end_time": "2021-06-01T16:24:25.459064Z",
     "start_time": "2021-06-01T16:24:25.230694Z"
    }
   },
   "outputs": [],
   "source": [
    "plt.figure();\n",
    "plt.suptitle('Scatter plot')\n",
    "plt.xlabel('a')\n",
    "plt.ylabel('b')\n",
    "plt.scatter(df['Date'], data1)\n",
    "\n",
    "z = np.polyfit(df['Date'].values.flatten(), data1.values.flatten(), 1)\n",
    "p = np.poly1d(z)\n",
    "plt.plot(data1,p(data1),\"r--\")\n",
    "plt.title(\"y=%.6fx+%.6f\"%(z[0],z[1])) \n",
    "\n",
    "plt.show()"
   ]
  },
  {
   "cell_type": "code",
   "execution_count": null,
   "metadata": {
    "ExecuteTime": {
     "end_time": "2021-06-01T16:24:28.139814Z",
     "start_time": "2021-06-01T16:24:27.918415Z"
    }
   },
   "outputs": [],
   "source": [
    "well_name = 'Plat-2'\n",
    "\n",
    "plt.figure(figsize = (12, 6))\n",
    "plt.scatter(df['Date'],\n",
    "           (df['Oil production (actual), t'].where(df['Well'] == well_name) / df['Working hours'] * 24))\n",
    "plt.scatter(df['Date'], df['WCT, %'].where(df['Well'] == well_name))\n",
    "plt.scatter(df['Date'], q_fc)\n",
    "plt.title('Daily oil production (t/d)')\n",
    "plt.ylabel('Daily oil production (t/d)')\n",
    "plt.title(well_name)\n",
    "plt.show()"
   ]
  },
  {
   "cell_type": "code",
   "execution_count": null,
   "metadata": {
    "ExecuteTime": {
     "end_time": "2021-06-01T16:24:31.209869Z",
     "start_time": "2021-06-01T16:24:31.132743Z"
    }
   },
   "outputs": [],
   "source": [
    "plt.plot(['2010-01-01'] * 100, np.linspace(0, 100, 100), label='median', linestyle='--', linewidth=4)\n",
    "plt.show()"
   ]
  },
  {
   "cell_type": "code",
   "execution_count": null,
   "metadata": {
    "scrolled": true
   },
   "outputs": [],
   "source": [
    "#df.dtypes  # типы данных\n",
    "# Приведение данных к типу данных float\n",
    "# df['Oil production (actual), t'] = df['Oil production (actual), t'].astype('float')\n",
    "# df['Working hours'] = df['Working hours'].astype('float')"
   ]
  },
  {
   "cell_type": "code",
   "execution_count": null,
   "metadata": {
    "scrolled": true
   },
   "outputs": [],
   "source": [
    "df['Date']\n",
    "well_name = 'Plat-2'\n",
    "(df['Oil production (actual), t'].where(df['Well'] == well_name)  / df['Working hours'] * 24)[:1] , df['Date']"
   ]
  },
  {
   "cell_type": "code",
   "execution_count": null,
   "metadata": {
    "scrolled": true
   },
   "outputs": [],
   "source": [
    "df['Date']\n",
    "well_name = 'Plat-2'\n",
    "(df['Oil production (actual), t'].where(df['Well'] == well_name)  / df['Working hours'] * 24).tail(5)"
   ]
  },
  {
   "cell_type": "code",
   "execution_count": null,
   "metadata": {
    "ExecuteTime": {
     "end_time": "2021-06-01T16:24:38.048464Z",
     "start_time": "2021-06-01T16:24:37.801467Z"
    }
   },
   "outputs": [],
   "source": [
    "t = df['Date']\n",
    "well_name = 'Plat-2'\n",
    "data1 = df['Oil production (actual), t'].where(df['Well'] == well_name) / df['Working hours'] * 24\n",
    "data2 = df['WCT, %'].where(df['Well'] == well_name)\n",
    "data3 = df['Gas production, M m3'].where(df['Well'] == well_name) / df['Working hours'] * 24\n",
    "\n",
    "fig, ax1 = plt.subplots(figsize = (10, 5))\n",
    "\n",
    "color = 'tab:brown'\n",
    "#ax1.set_xlabel('Date')\n",
    "ax1.set_ylabel('Daily oil production (t/d)', color=color)\n",
    "ax1.plot(t, data1, color=color)\n",
    "ax1.tick_params(axis='y', labelcolor=color)\n",
    "ax2 = ax1.twinx()  # instantiate a second axes that shares the same x-axis\n",
    "\n",
    "color = 'tab:blue'\n",
    "ax2.set_ylabel('Watercut, %', color=color)  # we already handled the x-label with ax1\n",
    "ax2.plot(t, data2, color=color)\n",
    "ax2.tick_params(axis='y', labelcolor=color)\n",
    "\n",
    "color = 'tab:green'\n",
    "ax1.plot(t, data3, color=color)\n",
    "\n",
    "legend = plt.legend(loc='upper left')\n",
    "plt.setp(legend.get_texts(), color=\"black\")\n",
    "\n",
    "plt.title(well_name)\n",
    "fig.tight_layout()  # otherwise the right y-label is slightly clipped\n",
    "#plt.legend()\n",
    "plt.show()"
   ]
  },
  {
   "cell_type": "code",
   "execution_count": null,
   "metadata": {
    "ExecuteTime": {
     "end_time": "2021-06-01T16:24:35.075119Z",
     "start_time": "2021-06-01T16:24:34.837810Z"
    },
    "scrolled": false
   },
   "outputs": [],
   "source": [
    "qi = 35       # начальный дебит = последнему историческому\n",
    "d = 0.06                  # коэффициент Арпса\n",
    "q_elim = 2                # экономический предел остановки скважины\n",
    "s_date_fc = '2015-07-01'  # начальная дата прогноза\n",
    "# =================================================================================\n",
    "q_fc = []\n",
    "month_no = 1  # начинаем считать месяцы с первого (с нулевого если дебит 1-го мес-ца как посл-ий истор-ий)\n",
    "#q = qi        # \n",
    "while qi * math.exp(-month_no * d) > q_elim:\n",
    "    q = qi * math.exp(-month_no * d)\n",
    "    q_fc.append(q)\n",
    "    month_no += 1\n",
    "# q_fc # массив дебитов (прогнозных)\n",
    "\n",
    "# генерация массива дат для прогноза\n",
    "dates_fc = pd.date_range(start = s_date_fc, periods=len(q_fc), freq='MS')\n",
    "\n",
    "# объединение прогнозных дебитов и массива дат как индекса в объекте Series\n",
    "q_fc_series = pd.Series(q_fc, index=dates_fc)\n",
    "#q_fc_series.plot() # построение графика добычи\n",
    "\n",
    "#t = df['Date']  # well_name = 'Plat-2'\n",
    "data1 = df['Oil production (actual), t'].where(df['Well'] == well_name) / df['Working hours'] * 24\n",
    "data2 = df['WCT, %'].where(df['Well'] == well_name)\n",
    "data3 = df['Gas production, M m3'].where(df['Well'] == well_name) / df['Working hours'] * 24\n",
    "fig, ax1 = plt.subplots(figsize = (10, 5))\n",
    "color = 'tab:brown'\n",
    "#ax1.set_xlabel('Date')\n",
    "ax1.set_ylabel('Daily oil production (t/d)', color=color)\n",
    "ax1.plot(df['Date'], data1, color=color)\n",
    "ax1.tick_params(axis='y', labelcolor=color)\n",
    "# кривая прогноза\n",
    "q_fc_series.plot(color=\"red\")\n",
    "ax2 = ax1.twinx()  # instantiate a second axes that shares the same x-axis\n",
    "color = 'tab:blue'\n",
    "ax2.set_ylabel('Watercut, %', color=color)  # we already handled the x-label with ax1\n",
    "ax2.plot(df['Date'], data2, color=color)\n",
    "ax2.tick_params(axis='y', labelcolor=color)\n",
    "plt.title(well_name)\n",
    "fig.tight_layout()  # otherwise the right y-label is slightly clipped\n",
    "plt.xlim(2015.5*365, 2024*365)  # нумерация в днях\n",
    "plt.show()"
   ]
  }
 ],
 "metadata": {
  "kernelspec": {
   "display_name": "Python 3",
   "language": "python",
   "name": "python3"
  },
  "language_info": {
   "codemirror_mode": {
    "name": "ipython",
    "version": 3
   },
   "file_extension": ".py",
   "mimetype": "text/x-python",
   "name": "python",
   "nbconvert_exporter": "python",
   "pygments_lexer": "ipython3",
   "version": "3.8.5"
  },
  "toc": {
   "base_numbering": 1,
   "nav_menu": {},
   "number_sections": true,
   "sideBar": true,
   "skip_h1_title": false,
   "title_cell": "Table of Contents",
   "title_sidebar": "Contents",
   "toc_cell": false,
   "toc_position": {},
   "toc_section_display": true,
   "toc_window_display": false
  },
  "varInspector": {
   "cols": {
    "lenName": 16,
    "lenType": 16,
    "lenVar": 40
   },
   "kernels_config": {
    "python": {
     "delete_cmd_postfix": "",
     "delete_cmd_prefix": "del ",
     "library": "var_list.py",
     "varRefreshCmd": "print(var_dic_list())"
    },
    "r": {
     "delete_cmd_postfix": ") ",
     "delete_cmd_prefix": "rm(",
     "library": "var_list.r",
     "varRefreshCmd": "cat(var_dic_list()) "
    }
   },
   "types_to_exclude": [
    "module",
    "function",
    "builtin_function_or_method",
    "instance",
    "_Feature"
   ],
   "window_display": false
  }
 },
 "nbformat": 4,
 "nbformat_minor": 4
}
